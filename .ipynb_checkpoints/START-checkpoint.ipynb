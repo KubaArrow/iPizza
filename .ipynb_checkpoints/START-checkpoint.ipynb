{
 "cells": [
  {
   "cell_type": "markdown",
   "id": "hydraulic-interview",
   "metadata": {},
   "source": [
    "# START"
   ]
  },
  {
   "cell_type": "code",
   "execution_count": 152,
   "id": "homeless-brother",
   "metadata": {},
   "outputs": [
    {
     "name": "stdout",
     "output_type": "stream",
     "text": [
      "\n",
      "\n",
      "\n"
     ]
    }
   ],
   "source": [
    "import rospy\n",
    "from std_msgs.msg import String\n",
    "!rosservice call reset\n",
    "!rosservice call kill turtle1\n",
    "rospy.set_param(\"turtlesim/background_r\", 150)\n",
    "rospy.set_param(\"turtlesim/background_g\", 75)\n",
    "rospy.set_param(\"turtlesim/background_b\", 0)\n",
    "!rosservice call /clear\n",
    "g_list_pol=[\"none\",\"none\",\"none\",\"none\"]\n",
    "global g_list_pol"
   ]
  },
  {
   "cell_type": "code",
   "execution_count": 153,
   "id": "white-cincinnati",
   "metadata": {},
   "outputs": [],
   "source": [
    "\n",
    "rospy.init_node(\"node_serwer\", anonymous=True)\n",
    "pol_Leo=rospy.Publisher(\"/leonardo/polecenie\",String,queue_size=10)\n",
    "cel_Leo=rospy.Publisher(\"/leonardo/cel\",String,queue_size=10)"
   ]
  },
  {
   "cell_type": "code",
   "execution_count": 154,
   "id": "digital-settle",
   "metadata": {},
   "outputs": [],
   "source": [
    "\n",
    "msg = String()\n",
    "msg.data=\"KURWA\"\n",
    "msg1 = String()\n",
    "msg1.data=\"KURWA2\"\n",
    "pol_Leo.publish(msg)\n",
    "cel_Leo.publish(msg1)"
   ]
  },
  {
   "cell_type": "code",
   "execution_count": null,
   "id": "incomplete-least",
   "metadata": {},
   "outputs": [],
   "source": []
  },
  {
   "cell_type": "code",
   "execution_count": null,
   "id": "acquired-transaction",
   "metadata": {},
   "outputs": [],
   "source": []
  }
 ],
 "metadata": {
  "kernelspec": {
   "display_name": "Python 3",
   "language": "python",
   "name": "python3"
  },
  "language_info": {
   "codemirror_mode": {
    "name": "ipython",
    "version": 3
   },
   "file_extension": ".py",
   "mimetype": "text/x-python",
   "name": "python",
   "nbconvert_exporter": "python",
   "pygments_lexer": "ipython3",
   "version": "3.8.5"
  }
 },
 "nbformat": 4,
 "nbformat_minor": 5
}
