{
 "cells": [
  {
   "cell_type": "code",
   "execution_count": 131,
   "id": "waiting-beads",
   "metadata": {},
   "outputs": [],
   "source": [
    "import rospy\n",
    "\n",
    "from turtlesim.srv import Spawn\n",
    "from turtlesim.srv import Kill\n",
    "from turtlesim.srv import SetPen\n",
    "from geometry_msgs.msg import Twist\n",
    "rospy.init_node(\"serwis_node_Leonardo\")\n",
    "class Robot:\n",
    "    def __init__(self, name, x, y, theta,r,g,b):\n",
    "        # inicjalizacja klasy\n",
    "        self.name = name\n",
    "        self.x = x\n",
    "        self.y = y\n",
    "        self.theta=theta\n",
    "        self.dok_x=x\n",
    "        self.dok_y=y\n",
    "        self.dok_theta=theta\n",
    "        create = rospy.ServiceProxy('spawn', Spawn)\n",
    "        create(self.dok_x, self.dok_y, self.dok_theta, name)\n",
    "        pen = rospy.ServiceProxy(name+'/set_pen', SetPen)\n",
    "        pen(r, g, b, 5,0)\n",
    "        \n",
    "    def sepuku(self):\n",
    "        kill = rospy.ServiceProxy('kill', Kill)\n",
    "        kill(self.name)\n",
    "        \n",
    "    def rezurektrion(self):\n",
    "        create = rospy.ServiceProxy('spawn', Spawn)\n",
    "        create(self.dok_x, self.dok_y, self.dok_theta, self.name)\n",
    "        \n",
    "    def pose(self):\n",
    "        print(\"{:f}, {:f}, {:f}\".format(self.x, self.y, self.theta))\n",
    "    \n",
    "    def obr(self, kier):\n",
    "        if kier=='p':\n",
    "            theta=0-self.theta\n",
    "            self.theta=0\n",
    "        elif kier=='g':\n",
    "            theta=1.57-self.theta\n",
    "            self.theta=1.57\n",
    "        elif kier=='l':\n",
    "            theta=3.14-self.theta\n",
    "            self.theta=3.14\n",
    "        elif kier=='d':\n",
    "            theta=4.71-self.theta\n",
    "            self.theta=4.71\n",
    "        pub_speed=rospy.Publisher(self.name+\"/cmd_vel\",Twist,queue_size=10)\n",
    "        msg = Twist()\n",
    "        msg.linear.x = 0\n",
    "        msg.angular.z = theta\n",
    "        pub_speed.publish(msg)\n",
    "        rospy.sleep(1)\n",
    "    \n",
    "        \n",
    "    def move(self, odl):\n",
    "        if self.theta==0:\n",
    "            self.x+=odl\n",
    "        elif self.theta==1.57:\n",
    "            self.y+=odl\n",
    "        elif self.theta==3.14:\n",
    "            self.x-=odl\n",
    "        elif self.theta==4.71:\n",
    "            self.y-=odl\n",
    "        pub_speed=rospy.Publisher(self.name+\"/cmd_vel\",Twist,queue_size=10)\n",
    "        msg = Twist()\n",
    "        msg.linear.x = odl\n",
    "        pub_speed.publish(msg)\n",
    "        rospy.sleep(1)\n",
    "      \n",
    "    def go(self,x,y):\n",
    "        if self.x<6:\n",
    "            self.obr('p')\n",
    "        elif self.x>6:\n",
    "            self.obr('l')\n",
    "        while self.x!=6:\n",
    "            self.move(0.5)\n",
    "            self.pose()\n",
    "        if self.y<y:\n",
    "            self.obr('g')\n",
    "        elif self.y>y:\n",
    "            self.obr('d')\n",
    "        while self.y!=y:\n",
    "            self.move(0.5)\n",
    "            self.pose()\n",
    "        if self.x<x:\n",
    "            self.obr('p')\n",
    "        elif self.x>x:\n",
    "            self.obr('l')\n",
    "        while self.x!=x:\n",
    "            self.move(0.5)\n",
    "            self.pose()\n",
    "    def pracuj(self):\n",
    "        if self.theta==0:\n",
    "            Leonardo.obr('g')\n",
    "            Leonardo.obr('l')\n",
    "            Leonardo.obr('d')\n",
    "            Leonardo.obr('p')\n",
    "        if self.theta==3.14:\n",
    "            Leonardo.obr('d')\n",
    "            Leonardo.obr('p')\n",
    "            Leonardo.obr('g')\n",
    "            Leonardo.obr('l')"
   ]
  },
  {
   "cell_type": "code",
   "execution_count": 132,
   "id": "sensitive-candy",
   "metadata": {},
   "outputs": [],
   "source": [
    "Leonardo=Robot(\"Leonardo\",4.0,10.5,4.71, 0,0,255)"
   ]
  },
  {
   "cell_type": "code",
   "execution_count": 102,
   "id": "worst-hygiene",
   "metadata": {},
   "outputs": [
    {
     "name": "stdout",
     "output_type": "stream",
     "text": [
      "4.000000, 10.500000, 4.710000\n"
     ]
    }
   ],
   "source": [
    "Leonardo.pose()"
   ]
  },
  {
   "cell_type": "code",
   "execution_count": 25,
   "id": "fresh-creator",
   "metadata": {},
   "outputs": [],
   "source": [
    "Leonardo.sepuku()"
   ]
  },
  {
   "cell_type": "code",
   "execution_count": 26,
   "id": "sporting-acoustic",
   "metadata": {},
   "outputs": [],
   "source": [
    "Leonardo.rezurektrion()"
   ]
  },
  {
   "cell_type": "code",
   "execution_count": 134,
   "id": "dominican-smart",
   "metadata": {},
   "outputs": [
    {
     "name": "stdout",
     "output_type": "stream",
     "text": [
      "2.500000, 1.500000, 0.000000\n",
      "3.000000, 1.500000, 0.000000\n",
      "3.500000, 1.500000, 0.000000\n",
      "4.000000, 1.500000, 0.000000\n",
      "4.500000, 1.500000, 0.000000\n",
      "5.000000, 1.500000, 0.000000\n",
      "5.500000, 1.500000, 0.000000\n",
      "6.000000, 1.500000, 0.000000\n",
      "5.500000, 1.500000, 3.140000\n",
      "5.000000, 1.500000, 3.140000\n",
      "4.500000, 1.500000, 3.140000\n",
      "4.000000, 1.500000, 3.140000\n",
      "3.500000, 1.500000, 3.140000\n",
      "3.000000, 1.500000, 3.140000\n",
      "2.500000, 1.500000, 3.140000\n",
      "2.000000, 1.500000, 3.140000\n"
     ]
    }
   ],
   "source": [
    "Leonardo.go(2,1.5)\n",
    "Leonardo.pracuj()"
   ]
  },
  {
   "cell_type": "code",
   "execution_count": 80,
   "id": "continent-vintage",
   "metadata": {},
   "outputs": [],
   "source": [
    "Leonardo.obr('l')\n",
    "Leonardo.move(3)"
   ]
  },
  {
   "cell_type": "code",
   "execution_count": 63,
   "id": "vocal-bookmark",
   "metadata": {},
   "outputs": [],
   "source": [
    "Leonardo.obr('g')"
   ]
  },
  {
   "cell_type": "code",
   "execution_count": 64,
   "id": "metropolitan-extent",
   "metadata": {},
   "outputs": [],
   "source": [
    "Leonardo.obr('p')"
   ]
  },
  {
   "cell_type": "code",
   "execution_count": 65,
   "id": "beautiful-colombia",
   "metadata": {},
   "outputs": [],
   "source": [
    "Leonardo.obr('d')"
   ]
  },
  {
   "cell_type": "code",
   "execution_count": 129,
   "id": "mineral-overall",
   "metadata": {},
   "outputs": [
    {
     "name": "stdout",
     "output_type": "stream",
     "text": [
      "\r\n"
     ]
    }
   ],
   "source": [
    "!rosservice call reset"
   ]
  },
  {
   "cell_type": "code",
   "execution_count": null,
   "id": "broken-seating",
   "metadata": {},
   "outputs": [],
   "source": []
  }
 ],
 "metadata": {
  "kernelspec": {
   "display_name": "Python 3",
   "language": "python",
   "name": "python3"
  },
  "language_info": {
   "codemirror_mode": {
    "name": "ipython",
    "version": 3
   },
   "file_extension": ".py",
   "mimetype": "text/x-python",
   "name": "python",
   "nbconvert_exporter": "python",
   "pygments_lexer": "ipython3",
   "version": "3.8.5"
  }
 },
 "nbformat": 4,
 "nbformat_minor": 5
}
