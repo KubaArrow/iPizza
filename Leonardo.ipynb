{
 "cells": [
  {
   "cell_type": "code",
   "execution_count": 1,
   "id": "popular-privilege",
   "metadata": {},
   "outputs": [],
   "source": [
    "import random\n",
    "import rospy\n",
    "import time\n",
    "from turtlesim.srv import Spawn\n",
    "from turtlesim.srv import Kill\n",
    "from turtlesim.srv import SetPen\n",
    "from turtlesim.srv import TeleportAbsolute\n",
    "from geometry_msgs.msg import Twist\n",
    "from std_msgs.msg import String\n",
    "rospy.init_node(\"serwis_node_Leonardo\")\n",
    "rozkazy=[]\n",
    "global rozkazy\n",
    "def ustaw_pol(data):\n",
    " \n",
    "    rozkazy.append(data.data)\n",
    "\n",
    "        \n",
    "class Robot:\n",
    "    \n",
    "     \n",
    "    def __init__(self, name, x, y, theta,r,g,b):\n",
    "        # inicjalizacja klasy\n",
    "        self.name = name\n",
    "        self.x = x\n",
    "        self.y = y\n",
    "        self.r = r\n",
    "        self.g = g\n",
    "        self.b = b\n",
    "        self.theta=theta\n",
    "        self.dok_x=x\n",
    "        self.dok_y=y\n",
    "        self.battery=0.99\n",
    "        self.dok_theta=theta\n",
    "        self.akt_pol=\"none\"\n",
    "        self.akt_zad=\"none\"\n",
    "        create = rospy.ServiceProxy('spawn', Spawn)\n",
    "        create(self.dok_x, self.dok_y, self.dok_theta, name)\n",
    "        self.pol=rospy.Publisher(name+\"/polecenie\",String,queue_size=10)\n",
    "        self.xp=rospy.Publisher(name+\"/pol_x\",String,queue_size=10)\n",
    "        self.yp=rospy.Publisher(name+\"/pol_y\",String,queue_size=10)\n",
    "        self.zad=rospy.Publisher(name+\"/pol_zad\",String,queue_size=10)\n",
    "        self.tryp_p=rospy.Publisher(name+\"/tryb\",String,queue_size=10)\n",
    "        self.tryp_p.publish(\"auto\")\n",
    "        self.manual=rospy.Subscriber(\"manual\",String, self.manual) \n",
    "        pen = rospy.ServiceProxy(name+\"/set_pen\", SetPen)\n",
    "        pen(r, g, b, 5,0)\n",
    "        self.tryb=\"auto\"\n",
    "        my_sube_pol=rospy.Subscriber(self.name+\"/polecenie\",String, ustaw_pol)\n",
    "        my_sube_pol.unregister()\n",
    "        my_sube_pol=rospy.Subscriber(self.name+\"/polecenie\",String, ustaw_pol)\n",
    "        tryb=rospy.Subscriber(self.name+\"/tryb\",String, self.ustaw_tryb)\n",
    "        tryb.unregister()\n",
    "        tryb=rospy.Subscriber(self.name+\"/tryb\",String, self.ustaw_tryb)\n",
    "        self.rysuj_dok()\n",
    "        \n",
    "        \n",
    "    def sepuku(self):\n",
    "        kill = rospy.ServiceProxy('kill', Kill)\n",
    "        kill(self.name)\n",
    "        \n",
    "    def rezurektrion(self):\n",
    "        create = rospy.ServiceProxy('spawn', Spawn)\n",
    "        create(self.dok_x, self.dok_y, self.dok_theta, self.name)\n",
    "        \n",
    "    def pose(self):\n",
    "        print(\"{:f}, {:f}, {:f}\".format(self.x, self.y, self.theta))\n",
    "    \n",
    "    def pen_on(self):\n",
    "            pen = rospy.ServiceProxy(self.name+'/set_pen', SetPen)\n",
    "            pen(self.r, self.g, self.b, 5,0)\n",
    "    def pen_off(self):\n",
    "            pen = rospy.ServiceProxy(self.name+'/set_pen', SetPen)\n",
    "            pen(self.r, self.g, self.b, 5,1)\n",
    "    \n",
    "    def obr(self, kier):\n",
    "        if kier=='p':\n",
    "            if self.theta==4.71:\n",
    "                theta=1.57\n",
    "            else:\n",
    "                theta=0-self.theta\n",
    "            self.theta=0\n",
    "        elif kier=='g':\n",
    "            theta=1.57-self.theta\n",
    "            self.theta=1.57\n",
    "        elif kier=='l':\n",
    "            theta=3.14-self.theta\n",
    "            self.theta=3.14\n",
    "        elif kier=='d':\n",
    "            if self.theta==0:\n",
    "                theta=-1.57\n",
    "            else:\n",
    "                theta=4.71-self.theta\n",
    "            self.theta=4.71\n",
    "        pub_speed=rospy.Publisher(self.name+\"/cmd_vel\",Twist,queue_size=10)\n",
    "        msg = Twist()\n",
    "        msg.linear.x = 0\n",
    "        msg.angular.z = theta\n",
    "        pub_speed.publish(msg)\n",
    "        self.rozladuj()\n",
    "        rospy.sleep(1)\n",
    "    \n",
    "        \n",
    "    def move(self, odl):\n",
    "        if self.theta==0:\n",
    "            self.x+=odl\n",
    "        elif self.theta==1.57:\n",
    "            self.y+=odl\n",
    "        elif self.theta==3.14:\n",
    "            self.x-=odl\n",
    "        elif self.theta==4.71:\n",
    "            self.y-=odl\n",
    "        pub_speed=rospy.Publisher(self.name+\"/cmd_vel\",Twist,queue_size=10)\n",
    "        msg = Twist()\n",
    "        msg.linear.x = odl\n",
    "        pub_speed.publish(msg)\n",
    "        self.rozladuj()\n",
    "        rospy.sleep(1)\n",
    "      \n",
    "    def go(self,x,y):\n",
    "        if(self.x!=x or self.y!=y):\n",
    "            if self.y==10.5:\n",
    "                self.obr('d')\n",
    "                self.move(1.5)\n",
    "            if self.x<5.5:\n",
    "                self.obr('p')\n",
    "            elif self.x>5.5:\n",
    "                self.obr('l')\n",
    "            while self.x!=5.5:\n",
    "                self.move(0.5)\n",
    "                #yself.pose()\n",
    "            if self.y<y:\n",
    "                self.obr('g')\n",
    "            elif self.y>y:\n",
    "                self.obr('d')\n",
    "            while self.y!=y:\n",
    "                self.move(0.5)\n",
    "                self.pose()\n",
    "                if y>9 and self.y==9:\n",
    "                    break\n",
    "            if self.x<x:\n",
    "                self.obr('p')\n",
    "            elif self.x>x:\n",
    "                self.obr('l')\n",
    "            while self.x!=x:\n",
    "                self.move(0.5)\n",
    "                self.pose()\n",
    "            if y>9:\n",
    "                self.obr('g')\n",
    "                while self.y!=y:\n",
    "                    self.move(0.5)\n",
    "    def pracuj(self):\n",
    "        self.rozladuj()\n",
    "        self.rozladuj()\n",
    "        self.rozladuj()\n",
    "        if self.theta==0:\n",
    "            self.obr('g')\n",
    "            self.obr('d')\n",
    "            self.obr('p')\n",
    "        if self.theta==3.14:\n",
    "            self.obr('d')\n",
    "            self.obr('g')\n",
    "            self.obr('l')\n",
    "        self.akt_zad=\"none\"\n",
    "        self.akt_pol=\"none\"\n",
    "        self.pow_dok()\n",
    "    def laduj(self):\n",
    "        if self.battery<1:\n",
    "            self.battery+= random.randint(0,9)/1000\n",
    "                           \n",
    "    def rozladuj(self):\n",
    "        if self.battery<1:\n",
    "            self.battery-= random.randint(0,9)/1000\n",
    "                           \n",
    "    def stan_baterii(self):\n",
    "            print(\"Bateria: {:.0f}%\".format(self.battery*100))\n",
    "      \n",
    "    def sprawdz(self):\n",
    "        \n",
    "        \n",
    "        if self.tryb!=\"manual\":\n",
    "            if len(rozkazy)!=0:\n",
    "                    rozkaz=rozkazy[0].split(\"|\")\n",
    "                    rozkazy.pop(0)\n",
    "                    x=float(rozkaz[1])\n",
    "                    y=float(rozkaz[2])\n",
    "                    self.akt_zad=rozkaz[0]\n",
    "                    self.akt_pol=rozkaz[3]\n",
    "                    self.go(x,y)     \n",
    "                    if self.akt_pol!=\"none\":\n",
    "                        self.pracuj()   \n",
    "            else:\n",
    "                if self.dok_x!=self.x or self.dok_y!=self.y:\n",
    "                    self.go(self.dok_x,self.dok_y) \n",
    "                    self.obr(\"d\")\n",
    "\n",
    "                else:\n",
    "                    dok = rospy.ServiceProxy(self.name+'/teleport_absolute', TeleportAbsolute)\n",
    "                    dok(self.dok_x, self.dok_y, 4.71)\n",
    "                    while self.battery<1:\n",
    "                        self.laduj();\n",
    "                        if len(rozkazy)!=0:\n",
    "                            break  \n",
    "    def manual(self,data):\n",
    "        if self.tryb==\"manual\":\n",
    "            p=data.data\n",
    "            if p==\"p\":\n",
    "                self.move(0.5)\n",
    "            elif p==\"t\":\n",
    "                self.move(-0.5)\n",
    "            elif p==\"l\":\n",
    "                self.theta+=1.57\n",
    "                pub_speed=rospy.Publisher(self.name+\"/cmd_vel\",Twist,queue_size=10)\n",
    "                msg = Twist()\n",
    "                msg.linear.x = 0\n",
    "                msg.angular.z = 1.57\n",
    "                pub_speed.publish(msg)\n",
    "            elif p==\"pp\":\n",
    "                self.theta-=1.57\n",
    "                pub_speed=rospy.Publisher(self.name+\"/cmd_vel\",Twist,queue_size=10)\n",
    "                msg = Twist()\n",
    "                msg.linear.x = 0\n",
    "                msg.angular.z = -1.57\n",
    "                pub_speed.publish(msg)\n",
    "            self.rozladuj()\n",
    "            rospy.sleep(1)\n",
    "               \n",
    "\n",
    "        \n",
    "      \n",
    "        \n",
    "    def ustaw_tryb(self,data):\n",
    "        self.tryb=data.data\n",
    "        \n",
    "    def rysuj_dok(self):\n",
    "            dok = rospy.ServiceProxy(self.name+'/teleport_absolute', TeleportAbsolute)\n",
    "            self.pen_off()\n",
    "            dok(self.dok_x-0.5, self.dok_y-0.5, 0)\n",
    "            self.pen_on()\n",
    "            dok(self.dok_x+0.5, self.dok_y-0.5, 0)\n",
    "            dok(self.dok_x+0.5, self.dok_y+0.5, 0)\n",
    "            dok(self.dok_x-0.5, self.dok_y+0.5, 0)\n",
    "            dok(self.dok_x-0.5, self.dok_y-0.5, 0)\n",
    "            self.pen_off()\n",
    "            dok(self.dok_x, self.dok_y, 4.71)\n",
    "            #self.pen_on()\n",
    "\n"
   ]
  },
  {
   "cell_type": "code",
   "execution_count": 2,
   "id": "freelance-photography",
   "metadata": {
    "scrolled": true
   },
   "outputs": [],
   "source": [
    "Leonardo=Robot(\"Leonardo\",4.0,10.5,4.71, 0,0,255)\n",
    "\n",
    "\n"
   ]
  },
  {
   "cell_type": "code",
   "execution_count": 3,
   "id": "difficult-terry",
   "metadata": {},
   "outputs": [
    {
     "name": "stdout",
     "output_type": "stream",
     "text": [
      "[]\n"
     ]
    }
   ],
   "source": [
    "print(rozkazy)"
   ]
  },
  {
   "cell_type": "code",
   "execution_count": 22,
   "id": "potential-intake",
   "metadata": {},
   "outputs": [
    {
     "name": "stderr",
     "output_type": "stream",
     "text": [
      "[ERROR] [1624567616.217644]: bad callback: <bound method Robot.ustaw_tryb of <__main__.Robot object at 0x7fc37025c7c0>>\n",
      "Traceback (most recent call last):\n",
      "  File \"/opt/ros/noetic/lib/python3/dist-packages/rospy/topics.py\", line 750, in _invoke_callback\n",
      "    cb(msg)\n",
      "  File \"<ipython-input-17-48699e4dcb8e>\", line 235, in ustaw_tryb\n",
      "    self.manual.unregister()\n",
      "AttributeError: 'function' object has no attribute 'unregister'\n",
      "\n"
     ]
    },
    {
     "name": "stdout",
     "output_type": "stream",
     "text": [
      "5.500000, 8.500000, 4.710000\n",
      "5.500000, 8.000000, 4.710000\n",
      "5.500000, 7.500000, 4.710000\n",
      "5.500000, 7.000000, 4.710000\n",
      "5.000000, 7.000000, 3.140000\n",
      "4.500000, 7.000000, 3.140000\n",
      "4.000000, 7.000000, 3.140000\n",
      "3.500000, 7.000000, 3.140000\n",
      "3.000000, 7.000000, 3.140000\n",
      "5.500000, 7.500000, 1.570000\n",
      "5.500000, 8.000000, 1.570000\n",
      "5.500000, 8.500000, 1.570000\n",
      "5.500000, 9.000000, 1.570000\n",
      "5.000000, 9.000000, 3.140000\n",
      "4.500000, 9.000000, 3.140000\n",
      "4.000000, 9.000000, 3.140000\n"
     ]
    },
    {
     "name": "stderr",
     "output_type": "stream",
     "text": [
      "[ERROR] [1624567670.192326]: bad callback: <bound method Robot.ustaw_tryb of <__main__.Robot object at 0x7fc37025c7c0>>\n",
      "Traceback (most recent call last):\n",
      "  File \"/opt/ros/noetic/lib/python3/dist-packages/rospy/topics.py\", line 750, in _invoke_callback\n",
      "    cb(msg)\n",
      "  File \"<ipython-input-17-48699e4dcb8e>\", line 233, in ustaw_tryb\n",
      "    self.manual=Subscriber(\"manual\",String, self.manual)\n",
      "NameError: name 'Subscriber' is not defined\n",
      "\n"
     ]
    },
    {
     "ename": "KeyboardInterrupt",
     "evalue": "",
     "output_type": "error",
     "traceback": [
      "\u001b[0;31m---------------------------------------------------------------------------\u001b[0m",
      "\u001b[0;31mKeyboardInterrupt\u001b[0m                         Traceback (most recent call last)",
      "\u001b[0;32m<ipython-input-22-809f94448781>\u001b[0m in \u001b[0;36m<module>\u001b[0;34m\u001b[0m\n\u001b[1;32m      2\u001b[0m \u001b[0;34m\u001b[0m\u001b[0m\n\u001b[1;32m      3\u001b[0m     \u001b[0mLeonardo\u001b[0m\u001b[0;34m.\u001b[0m\u001b[0msprawdz\u001b[0m\u001b[0;34m(\u001b[0m\u001b[0;34m)\u001b[0m\u001b[0;34m\u001b[0m\u001b[0;34m\u001b[0m\u001b[0m\n\u001b[0;32m----> 4\u001b[0;31m     \u001b[0mtime\u001b[0m\u001b[0;34m.\u001b[0m\u001b[0msleep\u001b[0m\u001b[0;34m(\u001b[0m\u001b[0;36m0.5\u001b[0m\u001b[0;34m)\u001b[0m\u001b[0;34m\u001b[0m\u001b[0;34m\u001b[0m\u001b[0m\n\u001b[0m",
      "\u001b[0;31mKeyboardInterrupt\u001b[0m: "
     ]
    }
   ],
   "source": [
    "while 1:\n",
    "    \n",
    "    Leonardo.sprawdz()\n",
    "    time.sleep(0.5)"
   ]
  },
  {
   "cell_type": "code",
   "execution_count": null,
   "id": "temporal-priest",
   "metadata": {},
   "outputs": [],
   "source": [
    "Leonardo.subs_on()"
   ]
  },
  {
   "cell_type": "code",
   "execution_count": 26,
   "id": "killing-ability",
   "metadata": {},
   "outputs": [
    {
     "data": {
      "text/plain": [
       "'auto'"
      ]
     },
     "execution_count": 26,
     "metadata": {},
     "output_type": "execute_result"
    },
    {
     "name": "stderr",
     "output_type": "stream",
     "text": [
      "[ERROR] [1624650774.564884]: bad callback: <bound method Robot.manual of <__main__.Robot object at 0x7f0d30211220>>\n",
      "Traceback (most recent call last):\n",
      "  File \"/opt/ros/noetic/lib/python3/dist-packages/rospy/topics.py\", line 750, in _invoke_callback\n",
      "    cb(msg)\n",
      "  File \"<ipython-input-13-ae6ba21affa5>\", line 204, in manual\n",
      "    print(XD)\n",
      "NameError: name 'XD' is not defined\n",
      "\n"
     ]
    }
   ],
   "source": [
    "Leonardo.tryb"
   ]
  },
  {
   "cell_type": "code",
   "execution_count": null,
   "id": "exceptional-establishment",
   "metadata": {},
   "outputs": [],
   "source": [
    "Leonardo.sepuku()"
   ]
  },
  {
   "cell_type": "code",
   "execution_count": null,
   "id": "powerful-immune",
   "metadata": {},
   "outputs": [],
   "source": [
    "Leonardo.rezurektrion()"
   ]
  },
  {
   "cell_type": "code",
   "execution_count": 20,
   "id": "experimental-relief",
   "metadata": {},
   "outputs": [
    {
     "ename": "KeyboardInterrupt",
     "evalue": "",
     "output_type": "error",
     "traceback": [
      "\u001b[0;31m---------------------------------------------------------------------------\u001b[0m",
      "\u001b[0;31mKeyboardInterrupt\u001b[0m                         Traceback (most recent call last)",
      "\u001b[0;32m<ipython-input-20-4661787e8a40>\u001b[0m in \u001b[0;36m<module>\u001b[0;34m\u001b[0m\n\u001b[0;32m----> 1\u001b[0;31m \u001b[0mLeonardo\u001b[0m\u001b[0;34m.\u001b[0m\u001b[0mgo\u001b[0m\u001b[0;34m(\u001b[0m\u001b[0;36m8\u001b[0m\u001b[0;34m,\u001b[0m\u001b[0;36m8\u001b[0m\u001b[0;34m)\u001b[0m\u001b[0;34m\u001b[0m\u001b[0;34m\u001b[0m\u001b[0m\n\u001b[0m\u001b[1;32m      2\u001b[0m \u001b[0mLeonardo\u001b[0m\u001b[0;34m.\u001b[0m\u001b[0mpracuj\u001b[0m\u001b[0;34m(\u001b[0m\u001b[0;34m)\u001b[0m\u001b[0;34m\u001b[0m\u001b[0;34m\u001b[0m\u001b[0m\n",
      "\u001b[0;32m<ipython-input-17-48699e4dcb8e>\u001b[0m in \u001b[0;36mgo\u001b[0;34m(self, x, y)\u001b[0m\n\u001b[1;32m    131\u001b[0m                 \u001b[0mself\u001b[0m\u001b[0;34m.\u001b[0m\u001b[0mobr\u001b[0m\u001b[0;34m(\u001b[0m\u001b[0;34m'g'\u001b[0m\u001b[0;34m)\u001b[0m\u001b[0;34m\u001b[0m\u001b[0;34m\u001b[0m\u001b[0m\n\u001b[1;32m    132\u001b[0m             \u001b[0;32melif\u001b[0m \u001b[0mself\u001b[0m\u001b[0;34m.\u001b[0m\u001b[0my\u001b[0m\u001b[0;34m>\u001b[0m\u001b[0my\u001b[0m\u001b[0;34m:\u001b[0m\u001b[0;34m\u001b[0m\u001b[0;34m\u001b[0m\u001b[0m\n\u001b[0;32m--> 133\u001b[0;31m                 \u001b[0mself\u001b[0m\u001b[0;34m.\u001b[0m\u001b[0mobr\u001b[0m\u001b[0;34m(\u001b[0m\u001b[0;34m'd'\u001b[0m\u001b[0;34m)\u001b[0m\u001b[0;34m\u001b[0m\u001b[0;34m\u001b[0m\u001b[0m\n\u001b[0m\u001b[1;32m    134\u001b[0m             \u001b[0;32mwhile\u001b[0m \u001b[0mself\u001b[0m\u001b[0;34m.\u001b[0m\u001b[0my\u001b[0m\u001b[0;34m!=\u001b[0m\u001b[0my\u001b[0m\u001b[0;34m:\u001b[0m\u001b[0;34m\u001b[0m\u001b[0;34m\u001b[0m\u001b[0m\n\u001b[1;32m    135\u001b[0m                 \u001b[0mself\u001b[0m\u001b[0;34m.\u001b[0m\u001b[0mmove\u001b[0m\u001b[0;34m(\u001b[0m\u001b[0;36m0.5\u001b[0m\u001b[0;34m)\u001b[0m\u001b[0;34m\u001b[0m\u001b[0;34m\u001b[0m\u001b[0m\n",
      "\u001b[0;32m<ipython-input-17-48699e4dcb8e>\u001b[0m in \u001b[0;36mobr\u001b[0;34m(self, kier)\u001b[0m\n\u001b[1;32m     97\u001b[0m         \u001b[0mpub_speed\u001b[0m\u001b[0;34m.\u001b[0m\u001b[0mpublish\u001b[0m\u001b[0;34m(\u001b[0m\u001b[0mmsg\u001b[0m\u001b[0;34m)\u001b[0m\u001b[0;34m\u001b[0m\u001b[0;34m\u001b[0m\u001b[0m\n\u001b[1;32m     98\u001b[0m         \u001b[0mself\u001b[0m\u001b[0;34m.\u001b[0m\u001b[0mrozladuj\u001b[0m\u001b[0;34m(\u001b[0m\u001b[0;34m)\u001b[0m\u001b[0;34m\u001b[0m\u001b[0;34m\u001b[0m\u001b[0m\n\u001b[0;32m---> 99\u001b[0;31m         \u001b[0mrospy\u001b[0m\u001b[0;34m.\u001b[0m\u001b[0msleep\u001b[0m\u001b[0;34m(\u001b[0m\u001b[0;36m1\u001b[0m\u001b[0;34m)\u001b[0m\u001b[0;34m\u001b[0m\u001b[0;34m\u001b[0m\u001b[0m\n\u001b[0m\u001b[1;32m    100\u001b[0m \u001b[0;34m\u001b[0m\u001b[0m\n\u001b[1;32m    101\u001b[0m \u001b[0;34m\u001b[0m\u001b[0m\n",
      "\u001b[0;32m/opt/ros/noetic/lib/python3/dist-packages/rospy/timer.py\u001b[0m in \u001b[0;36msleep\u001b[0;34m(duration)\u001b[0m\n\u001b[1;32m    132\u001b[0m             \u001b[0;32mreturn\u001b[0m\u001b[0;34m\u001b[0m\u001b[0;34m\u001b[0m\u001b[0m\n\u001b[1;32m    133\u001b[0m         \u001b[0;32melse\u001b[0m\u001b[0;34m:\u001b[0m\u001b[0;34m\u001b[0m\u001b[0;34m\u001b[0m\u001b[0m\n\u001b[0;32m--> 134\u001b[0;31m             \u001b[0mrospy\u001b[0m\u001b[0;34m.\u001b[0m\u001b[0mrostime\u001b[0m\u001b[0;34m.\u001b[0m\u001b[0mwallsleep\u001b[0m\u001b[0;34m(\u001b[0m\u001b[0mduration\u001b[0m\u001b[0;34m)\u001b[0m\u001b[0;34m\u001b[0m\u001b[0;34m\u001b[0m\u001b[0m\n\u001b[0m\u001b[1;32m    135\u001b[0m     \u001b[0;32melse\u001b[0m\u001b[0;34m:\u001b[0m\u001b[0;34m\u001b[0m\u001b[0;34m\u001b[0m\u001b[0m\n\u001b[1;32m    136\u001b[0m         \u001b[0minitial_rostime\u001b[0m \u001b[0;34m=\u001b[0m \u001b[0mrospy\u001b[0m\u001b[0;34m.\u001b[0m\u001b[0mrostime\u001b[0m\u001b[0;34m.\u001b[0m\u001b[0mget_rostime\u001b[0m\u001b[0;34m(\u001b[0m\u001b[0;34m)\u001b[0m\u001b[0;34m\u001b[0m\u001b[0;34m\u001b[0m\u001b[0m\n",
      "\u001b[0;32m/opt/ros/noetic/lib/python3/dist-packages/rospy/rostime.py\u001b[0m in \u001b[0;36mwallsleep\u001b[0;34m(duration)\u001b[0m\n\u001b[1;32m    275\u001b[0m             \u001b[0;32mpass\u001b[0m\u001b[0;34m\u001b[0m\u001b[0;34m\u001b[0m\u001b[0m\n\u001b[1;32m    276\u001b[0m     \u001b[0;32melse\u001b[0m\u001b[0;34m:\u001b[0m\u001b[0;34m\u001b[0m\u001b[0;34m\u001b[0m\u001b[0m\n\u001b[0;32m--> 277\u001b[0;31m         \u001b[0mtime\u001b[0m\u001b[0;34m.\u001b[0m\u001b[0msleep\u001b[0m\u001b[0;34m(\u001b[0m\u001b[0mduration\u001b[0m\u001b[0;34m)\u001b[0m\u001b[0;34m\u001b[0m\u001b[0;34m\u001b[0m\u001b[0m\n\u001b[0m",
      "\u001b[0;31mKeyboardInterrupt\u001b[0m: "
     ]
    }
   ],
   "source": [
    "\n",
    "Leonardo.go(8,8)\n",
    "Leonardo.pracuj()\n"
   ]
  },
  {
   "cell_type": "code",
   "execution_count": null,
   "id": "generic-checklist",
   "metadata": {},
   "outputs": [],
   "source": [
    "Leonardo.obr('l')\n",
    "Leonardo.move(3)"
   ]
  },
  {
   "cell_type": "code",
   "execution_count": null,
   "id": "wireless-latvia",
   "metadata": {},
   "outputs": [],
   "source": [
    "Leonardo.obr('g')"
   ]
  },
  {
   "cell_type": "code",
   "execution_count": null,
   "id": "rocky-director",
   "metadata": {},
   "outputs": [],
   "source": [
    "Leonardo.obr('p')"
   ]
  },
  {
   "cell_type": "code",
   "execution_count": null,
   "id": "relative-large",
   "metadata": {},
   "outputs": [],
   "source": [
    "Leonardo.obr('d')"
   ]
  },
  {
   "cell_type": "code",
   "execution_count": null,
   "id": "accompanied-helena",
   "metadata": {},
   "outputs": [],
   "source": [
    "!rosservice call reset"
   ]
  },
  {
   "cell_type": "code",
   "execution_count": null,
   "id": "velvet-jersey",
   "metadata": {},
   "outputs": [],
   "source": []
  }
 ],
 "metadata": {
  "kernelspec": {
   "display_name": "Python 3",
   "language": "python",
   "name": "python3"
  },
  "language_info": {
   "codemirror_mode": {
    "name": "ipython",
    "version": 3
   },
   "file_extension": ".py",
   "mimetype": "text/x-python",
   "name": "python",
   "nbconvert_exporter": "python",
   "pygments_lexer": "ipython3",
   "version": "3.8.5"
  }
 },
 "nbformat": 4,
 "nbformat_minor": 5
}
