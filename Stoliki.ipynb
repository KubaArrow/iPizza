{
 "cells": [
  {
   "cell_type": "markdown",
   "id": "defensive-logic",
   "metadata": {},
   "source": [
    "# Stoliki"
   ]
  },
  {
   "cell_type": "code",
   "execution_count": 8,
   "id": "bacterial-brass",
   "metadata": {},
   "outputs": [],
   "source": [
    "import rospy\n",
    "from turtlesim.srv import Spawn\n",
    "from turtlesim.srv import Kill\n",
    "from turtlesim.srv import SetPen\n",
    "from turtlesim.srv import TeleportAbsolute\n",
    "from geometry_msgs.msg import Twist\n",
    "from std_msgs.msg import String\n",
    "import ipywidgets as widgets\n",
    "rospy.init_node(\"serwis_node_Leonardo\")\n",
    "\n",
    "\n",
    "class Stolik:\n",
    "\n",
    "    def __init__(self, id_s, x,y):\n",
    "        self.id = id_s\n",
    "        self.x = x\n",
    "        self.y = y\n",
    "        self.status=\"free\"\n",
    "        self.name=\"rysownik\"\n",
    "        stolik_x=rospy.Publisher(\"stolik_\"+str(self.id)+\"/x\",String,queue_size=10)\n",
    "        stolik_y=rospy.Publisher(\"stolik_\"+str(self.id)+\"/y\",String,queue_size=10)\n",
    "        stolik_y.publish(str(self.y))\n",
    "        stolik_x.publish(str(self.x))\n",
    "        stolik_but=widgets.Button(\n",
    "            value=False,\n",
    "            description='STOLIK '+str(self.id),\n",
    "            disabled=False,\n",
    "            button_style='info', # 'success', 'info', 'warning', 'danger' or ''\n",
    "            tooltip='Wezwij do tego stolika',\n",
    "            icon='' # (FontAwesome names without the `fa-` prefix)\n",
    "            )\n",
    "        display(stolik_but)\n",
    "        stolik_but.on_click(self.wezwij)\n",
    "        my_sube_pol=rospy.Subscriber(\"stolik_\"+str(self.id)+\"/status\",String, self.off_stat)\n",
    "                      \n",
    "    def off_stat(self, data):\n",
    "        \n",
    "        if data.data=='!':\n",
    "            self.rysuj_stolik(255,0,0)\n",
    "        else:\n",
    "            self.rysuj_stolik(255,255,255)\n",
    "            \n",
    "    def rysuj_stolik(self, r,g,b):\n",
    "        name=\"rysownik\"\n",
    "        create = rospy.ServiceProxy('spawn', Spawn)\n",
    "        create(self.x-0.5, self.y-0.5, 0, name)\n",
    "        pen = rospy.ServiceProxy(name+'/set_pen', SetPen)\n",
    "        pen(r, g, b, 5,0)\n",
    "        \n",
    "        dok = rospy.ServiceProxy(name+'/teleport_absolute', TeleportAbsolute)\n",
    "        dok(self.x+0.5, self.y-0.5, 0)\n",
    "        dok(self.x+0.5, self.y+0.5, 0)\n",
    "        dok(self.x-0.5, self.y+0.5, 0)\n",
    "        dok(self.x-0.5, self.y-0.5, 0)\n",
    "        pen(r, g, b, 5,0)  \n",
    "        kill = rospy.ServiceProxy('kill', Kill)\n",
    "        kill(name)\n",
    "  \n",
    "        \n",
    "    def publish(self, status):\n",
    "        stolik=rospy.Publisher(\"stolik_\"+str(self.id)+\"/status\",String,queue_size=10)\n",
    "        stolik.publish(status)\n",
    "        \n",
    "    def wezwij(self,button_data):\n",
    "        self.publish(\"!\")\n",
    "        \n",
    "        \n",
    "\n",
    "\n"
   ]
  },
  {
   "cell_type": "code",
   "execution_count": 9,
   "id": "unexpected-associate",
   "metadata": {},
   "outputs": [
    {
     "data": {
      "application/vnd.jupyter.widget-view+json": {
       "model_id": "04b30793b3c14d70ba19ba7ea26f4587",
       "version_major": 2,
       "version_minor": 0
      },
      "text/plain": [
       "Button(button_style='info', description='STOLIK 1', style=ButtonStyle(), tooltip='Wezwij do tego stolika')"
      ]
     },
     "metadata": {},
     "output_type": "display_data"
    },
    {
     "name": "stdout",
     "output_type": "stream",
     "text": [
      "data: \"!\"\n",
      "data: \"!\"\n",
      "data: \"!\"\n",
      "data: \"!\"\n",
      "data: \"!\"\n",
      "data: \"!\"\n",
      "data: \"!\"\n",
      "data: \"!\"\n",
      "data: \"!\"\n",
      "data: \"!\"\n",
      "data: \"!\"\n",
      "data: \"!\"\n",
      "data: \"!\"\n",
      "data: \"!\"\n",
      "data: \"!\"\n",
      "data: \"!\"\n",
      "data: \"!\"\n",
      "data: \"!\"\n",
      "data: \"!\"\n",
      "data: \"!\"\n",
      "data: \"!\"\n",
      "data: \"!\"\n",
      "data: \"!\"\n",
      "data: \"!\"\n"
     ]
    }
   ],
   "source": [
    "stolik1= Stolik(1,2,2)\n",
    "stolik1.rysuj_stolik(255,255,255)"
   ]
  },
  {
   "cell_type": "code",
   "execution_count": 7,
   "id": "fatal-devil",
   "metadata": {},
   "outputs": [
    {
     "name": "stdout",
     "output_type": "stream",
     "text": [
      "data: \"k\"\n",
      "data: \"k\"\n",
      "data: \"k\"\n",
      "data: \"k\"\n",
      "data: \"k\"\n",
      "data: \"k\"\n"
     ]
    }
   ],
   "source": [
    "\n",
    "stolik1.publish(\"k\")\n",
    "stolik1.publish(\"k\")"
   ]
  },
  {
   "cell_type": "code",
   "execution_count": 77,
   "id": "serious-amateur",
   "metadata": {},
   "outputs": [
    {
     "ename": "TypeError",
     "evalue": "wezwij() missing 1 required positional argument: 'button_data'",
     "output_type": "error",
     "traceback": [
      "\u001b[0;31m---------------------------------------------------------------------------\u001b[0m",
      "\u001b[0;31mTypeError\u001b[0m                                 Traceback (most recent call last)",
      "\u001b[0;32m<ipython-input-77-be7d0e4d3057>\u001b[0m in \u001b[0;36m<module>\u001b[0;34m\u001b[0m\n\u001b[0;32m----> 1\u001b[0;31m \u001b[0mstolik1\u001b[0m\u001b[0;34m.\u001b[0m\u001b[0mwezwij\u001b[0m\u001b[0;34m(\u001b[0m\u001b[0;34m)\u001b[0m\u001b[0;34m\u001b[0m\u001b[0;34m\u001b[0m\u001b[0m\n\u001b[0m",
      "\u001b[0;31mTypeError\u001b[0m: wezwij() missing 1 required positional argument: 'button_data'"
     ]
    }
   ],
   "source": []
  },
  {
   "cell_type": "code",
   "execution_count": 76,
   "id": "accepted-relevance",
   "metadata": {},
   "outputs": [],
   "source": [
    "stolik1_but.on_click(stolik1.wezwij)"
   ]
  },
  {
   "cell_type": "code",
   "execution_count": 41,
   "id": "needed-passport",
   "metadata": {},
   "outputs": [
    {
     "ename": "NameError",
     "evalue": "name 'widgets' is not defined",
     "output_type": "error",
     "traceback": [
      "\u001b[0;31m---------------------------------------------------------------------------\u001b[0m",
      "\u001b[0;31mNameError\u001b[0m                                 Traceback (most recent call last)",
      "\u001b[0;32m<ipython-input-41-7cd4f05a93a1>\u001b[0m in \u001b[0;36m<module>\u001b[0;34m\u001b[0m\n\u001b[0;32m----> 1\u001b[0;31m stolik1_but=widgets.ToggleButton(\n\u001b[0m\u001b[1;32m      2\u001b[0m     \u001b[0mvalue\u001b[0m\u001b[0;34m=\u001b[0m\u001b[0;34m\"true\"\u001b[0m\u001b[0;34m,\u001b[0m\u001b[0;34m\u001b[0m\u001b[0;34m\u001b[0m\u001b[0m\n\u001b[1;32m      3\u001b[0m     \u001b[0mdescription\u001b[0m\u001b[0;34m=\u001b[0m\u001b[0;34m\"Stolik1\"\u001b[0m\u001b[0;34m,\u001b[0m\u001b[0;34m\u001b[0m\u001b[0;34m\u001b[0m\u001b[0m\n\u001b[1;32m      4\u001b[0m     \u001b[0mdisabled\u001b[0m\u001b[0;34m=\u001b[0m\u001b[0;32mFalse\u001b[0m\u001b[0;34m,\u001b[0m\u001b[0;34m\u001b[0m\u001b[0;34m\u001b[0m\u001b[0m\n\u001b[1;32m      5\u001b[0m     \u001b[0mbutton_style\u001b[0m\u001b[0;34m=\u001b[0m\u001b[0;34m''\u001b[0m\u001b[0;34m,\u001b[0m \u001b[0;31m# 'success', 'info', 'warning', 'danger' or ''\u001b[0m\u001b[0;34m\u001b[0m\u001b[0;34m\u001b[0m\u001b[0m\n",
      "\u001b[0;31mNameError\u001b[0m: name 'widgets' is not defined"
     ]
    }
   ],
   "source": [
    "stolik1_but=widgets.ToggleButton(\n",
    "    value=\"true\",\n",
    "    description=\"Stolik1\",\n",
    "    disabled=False,\n",
    "    button_style='', # 'success', 'info', 'warning', 'danger' or ''\n",
    "    tooltip='Description',\n",
    "    icon='check' # (FontAwesome names without the `fa-` prefix)\n",
    ")"
   ]
  },
  {
   "cell_type": "code",
   "execution_count": null,
   "id": "permanent-execution",
   "metadata": {},
   "outputs": [],
   "source": []
  }
 ],
 "metadata": {
  "kernelspec": {
   "display_name": "Python 3",
   "language": "python",
   "name": "python3"
  },
  "language_info": {
   "codemirror_mode": {
    "name": "ipython",
    "version": 3
   },
   "file_extension": ".py",
   "mimetype": "text/x-python",
   "name": "python",
   "nbconvert_exporter": "python",
   "pygments_lexer": "ipython3",
   "version": "3.8.5"
  }
 },
 "nbformat": 4,
 "nbformat_minor": 5
}
