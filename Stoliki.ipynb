{
 "cells": [
  {
   "cell_type": "markdown",
   "id": "defensive-logic",
   "metadata": {},
   "source": [
    "# Stoliki"
   ]
  },
  {
   "cell_type": "code",
   "execution_count": 1,
   "id": "bacterial-brass",
   "metadata": {},
   "outputs": [],
   "source": [
    "import rospy\n",
    "import time\n",
    "from turtlesim.srv import Spawn\n",
    "from turtlesim.srv import Kill\n",
    "from turtlesim.srv import SetPen\n",
    "from turtlesim.srv import TeleportAbsolute\n",
    "from geometry_msgs.msg import Twist\n",
    "from std_msgs.msg import String\n",
    "import ipywidgets as widgets\n",
    "rospy.init_node(\"serwis_node_stoliki\")\n",
    "\n",
    "\n",
    "class Stolik:\n",
    "\n",
    "    def __init__(self, id_s, x,y):\n",
    "        self.id = id_s\n",
    "        self.x = x\n",
    "        self.y = y\n",
    "        self.status=\"free\"\n",
    "        self.name=\"rysownik\"\n",
    "        stolik_x=rospy.Publisher(\"stolik_\"+str(self.id)+\"/x\",String,queue_size=10)\n",
    "        stolik_y=rospy.Publisher(\"stolik_\"+str(self.id)+\"/y\",String,queue_size=10)\n",
    "        stolik_y.publish(str(self.y))\n",
    "        stolik_x.publish(str(self.x))\n",
    "        stolik_but=widgets.Button(\n",
    "            value=False,\n",
    "            description='STOLIK '+str(self.id),\n",
    "            disabled=False,\n",
    "            button_style='info', # 'success', 'info', 'warning', 'danger' or ''\n",
    "            tooltip='Wezwij do tego stolika',\n",
    "            icon='' # (FontAwesome names without the `fa-` prefix)\n",
    "            )\n",
    "        display(stolik_but)\n",
    "        stolik_but.on_click(self.wezwij)\n",
    "        self.rysuj_stolik(255,255,255)\n",
    "        my_sube_pol=rospy.Subscriber(\"stolik_\"+str(self.id)+\"/status\",String, self.off_stat)\n",
    "                      \n",
    "    def off_stat(self, data):\n",
    "        \n",
    "        if data.data==str(self.id)+'!':\n",
    "            self.rysuj_stolik(255,0,0)\n",
    "        else:\n",
    "            self.rysuj_stolik(255,255,255)\n",
    "            \n",
    "    def rysuj_stolik(self, r,g,b):\n",
    "        name=\"rysownik\"\n",
    "        create = rospy.ServiceProxy('spawn', Spawn)\n",
    "        create(self.x-3, self.y-1, 0 ,name)\n",
    "        pen = rospy.ServiceProxy(name+'/set_pen', SetPen)\n",
    "        pen(r, g, b, 5,0)\n",
    "        \n",
    "        dok = rospy.ServiceProxy(name+'/teleport_absolute', TeleportAbsolute)\n",
    "        dok(self.x, self.y-1, 0)\n",
    "        dok(self.x, self.y+1, 0)\n",
    "        dok(self.x-3, self.y+1, 0)\n",
    "        dok(self.x-3, self.y-1, 0)\n",
    "        pen(r, g, b, 5,0)  \n",
    "        kill = rospy.ServiceProxy('kill', Kill)\n",
    "        kill(name)\n",
    "        if(r+g+b!=765):\n",
    "            time.sleep(0.5)\n",
    "            self.rysuj_stolik(255,255,255)\n",
    "      \n",
    "\n",
    "        \n",
    "    def publish(self, status):\n",
    "        stolik=rospy.Publisher(\"stolik_\"+str(self.id)+\"/status\",String,queue_size=10)\n",
    "        stolik.publish(status)\n",
    "        \n",
    "    def wezwij(self,button_data):\n",
    "        self.publish(str(self.id)+\"!\")\n",
    "        \n",
    "        \n",
    "\n",
    "\n"
   ]
  },
  {
   "cell_type": "code",
   "execution_count": 2,
   "id": "unexpected-associate",
   "metadata": {},
   "outputs": [
    {
     "data": {
      "application/vnd.jupyter.widget-view+json": {
       "model_id": "2ffe765d78794c2c852dbdab54554866",
       "version_major": 2,
       "version_minor": 0
      },
      "text/plain": [
       "Button(button_style='info', description='STOLIK 1', style=ButtonStyle(), tooltip='Wezwij do tego stolika')"
      ]
     },
     "metadata": {},
     "output_type": "display_data"
    },
    {
     "data": {
      "application/vnd.jupyter.widget-view+json": {
       "model_id": "dbceebae8f574877ace2bfa02361fbd2",
       "version_major": 2,
       "version_minor": 0
      },
      "text/plain": [
       "Button(button_style='info', description='STOLIK 2', style=ButtonStyle(), tooltip='Wezwij do tego stolika')"
      ]
     },
     "metadata": {},
     "output_type": "display_data"
    },
    {
     "data": {
      "application/vnd.jupyter.widget-view+json": {
       "model_id": "756f97d7c3ef4710a243f0e1448b7c99",
       "version_major": 2,
       "version_minor": 0
      },
      "text/plain": [
       "Button(button_style='info', description='STOLIK 3', style=ButtonStyle(), tooltip='Wezwij do tego stolika')"
      ]
     },
     "metadata": {},
     "output_type": "display_data"
    },
    {
     "data": {
      "application/vnd.jupyter.widget-view+json": {
       "model_id": "76abfe5b368f46a2a0cc3dbb885c153e",
       "version_major": 2,
       "version_minor": 0
      },
      "text/plain": [
       "Button(button_style='info', description='STOLIK 4', style=ButtonStyle(), tooltip='Wezwij do tego stolika')"
      ]
     },
     "metadata": {},
     "output_type": "display_data"
    },
    {
     "data": {
      "application/vnd.jupyter.widget-view+json": {
       "model_id": "6687b846b6fb4bb9b041958057a06c02",
       "version_major": 2,
       "version_minor": 0
      },
      "text/plain": [
       "Button(button_style='info', description='STOLIK 5', style=ButtonStyle(), tooltip='Wezwij do tego stolika')"
      ]
     },
     "metadata": {},
     "output_type": "display_data"
    },
    {
     "data": {
      "application/vnd.jupyter.widget-view+json": {
       "model_id": "37c798d507fa47b3bc9111b04e84108e",
       "version_major": 2,
       "version_minor": 0
      },
      "text/plain": [
       "Button(button_style='info', description='STOLIK 6', style=ButtonStyle(), tooltip='Wezwij do tego stolika')"
      ]
     },
     "metadata": {},
     "output_type": "display_data"
    }
   ],
   "source": [
    "stolik1= Stolik(1,3,7)\n",
    "stolik2= Stolik(2,3,4.5)\n",
    "stolik3= Stolik(3,3,2)\n",
    "stolik4= Stolik(4,11,2)\n",
    "stolik5= Stolik(5,11,4.5)\n",
    "stolik6= Stolik(6,11,7)"
   ]
  },
  {
   "cell_type": "code",
   "execution_count": 15,
   "id": "fatal-devil",
   "metadata": {},
   "outputs": [],
   "source": [
    "\n",
    "stolik1.publish(\"free\")\n"
   ]
  },
  {
   "cell_type": "code",
   "execution_count": null,
   "id": "serious-amateur",
   "metadata": {},
   "outputs": [],
   "source": []
  },
  {
   "cell_type": "code",
   "execution_count": 76,
   "id": "accepted-relevance",
   "metadata": {},
   "outputs": [],
   "source": [
    "stolik1_but.on_click(stolik1.wezwij)"
   ]
  },
  {
   "cell_type": "code",
   "execution_count": 41,
   "id": "needed-passport",
   "metadata": {},
   "outputs": [
    {
     "ename": "NameError",
     "evalue": "name 'widgets' is not defined",
     "output_type": "error",
     "traceback": [
      "\u001b[0;31m---------------------------------------------------------------------------\u001b[0m",
      "\u001b[0;31mNameError\u001b[0m                                 Traceback (most recent call last)",
      "\u001b[0;32m<ipython-input-41-7cd4f05a93a1>\u001b[0m in \u001b[0;36m<module>\u001b[0;34m\u001b[0m\n\u001b[0;32m----> 1\u001b[0;31m stolik1_but=widgets.ToggleButton(\n\u001b[0m\u001b[1;32m      2\u001b[0m     \u001b[0mvalue\u001b[0m\u001b[0;34m=\u001b[0m\u001b[0;34m\"true\"\u001b[0m\u001b[0;34m,\u001b[0m\u001b[0;34m\u001b[0m\u001b[0;34m\u001b[0m\u001b[0m\n\u001b[1;32m      3\u001b[0m     \u001b[0mdescription\u001b[0m\u001b[0;34m=\u001b[0m\u001b[0;34m\"Stolik1\"\u001b[0m\u001b[0;34m,\u001b[0m\u001b[0;34m\u001b[0m\u001b[0;34m\u001b[0m\u001b[0m\n\u001b[1;32m      4\u001b[0m     \u001b[0mdisabled\u001b[0m\u001b[0;34m=\u001b[0m\u001b[0;32mFalse\u001b[0m\u001b[0;34m,\u001b[0m\u001b[0;34m\u001b[0m\u001b[0;34m\u001b[0m\u001b[0m\n\u001b[1;32m      5\u001b[0m     \u001b[0mbutton_style\u001b[0m\u001b[0;34m=\u001b[0m\u001b[0;34m''\u001b[0m\u001b[0;34m,\u001b[0m \u001b[0;31m# 'success', 'info', 'warning', 'danger' or ''\u001b[0m\u001b[0;34m\u001b[0m\u001b[0;34m\u001b[0m\u001b[0m\n",
      "\u001b[0;31mNameError\u001b[0m: name 'widgets' is not defined"
     ]
    }
   ],
   "source": [
    "stolik1_but=widgets.ToggleButton(\n",
    "    value=\"true\",\n",
    "    description=\"Stolik1\",\n",
    "    disabled=False,\n",
    "    button_style='', # 'success', 'info', 'warning', 'danger' or ''\n",
    "    tooltip='Description',\n",
    "    icon='check' # (FontAwesome names without the `fa-` prefix)\n",
    ")"
   ]
  },
  {
   "cell_type": "code",
   "execution_count": null,
   "id": "permanent-execution",
   "metadata": {},
   "outputs": [],
   "source": []
  }
 ],
 "metadata": {
  "kernelspec": {
   "display_name": "Python 3",
   "language": "python",
   "name": "python3"
  },
  "language_info": {
   "codemirror_mode": {
    "name": "ipython",
    "version": 3
   },
   "file_extension": ".py",
   "mimetype": "text/x-python",
   "name": "python",
   "nbconvert_exporter": "python",
   "pygments_lexer": "ipython3",
   "version": "3.8.5"
  }
 },
 "nbformat": 4,
 "nbformat_minor": 5
}
