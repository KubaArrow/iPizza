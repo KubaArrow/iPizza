{
 "cells": [
  {
   "cell_type": "markdown",
   "id": "hydraulic-interview",
   "metadata": {},
   "source": [
    "# START"
   ]
  },
  {
   "cell_type": "code",
   "execution_count": 9,
   "id": "homeless-brother",
   "metadata": {},
   "outputs": [
    {
     "name": "stdout",
     "output_type": "stream",
     "text": [
      "\n",
      "\n",
      "\n"
     ]
    }
   ],
   "source": [
    "import rospy\n",
    "!rosservice call reset\n",
    "!rosservice call kill turtle1\n",
    "rospy.set_param(\"turtlesim/background_r\", 150)\n",
    "rospy.set_param(\"turtlesim/background_g\", 75)\n",
    "rospy.set_param(\"turtlesim/background_b\", 0)\n",
    "!rosservice call /clear"
   ]
  },
  {
   "cell_type": "code",
   "execution_count": null,
   "id": "white-cincinnati",
   "metadata": {},
   "outputs": [],
   "source": []
  }
 ],
 "metadata": {
  "kernelspec": {
   "display_name": "Python 3",
   "language": "python",
   "name": "python3"
  },
  "language_info": {
   "codemirror_mode": {
    "name": "ipython",
    "version": 3
   },
   "file_extension": ".py",
   "mimetype": "text/x-python",
   "name": "python",
   "nbconvert_exporter": "python",
   "pygments_lexer": "ipython3",
   "version": "3.8.5"
  }
 },
 "nbformat": 4,
 "nbformat_minor": 5
}
