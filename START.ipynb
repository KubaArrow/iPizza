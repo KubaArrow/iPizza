{
 "cells": [
  {
   "cell_type": "markdown",
   "id": "hydraulic-interview",
   "metadata": {},
   "source": [
    "# START"
   ]
  },
  {
   "cell_type": "markdown",
   "id": "enormous-karaoke",
   "metadata": {},
   "source": []
  },
  {
   "cell_type": "code",
   "execution_count": 37,
   "id": "homeless-brother",
   "metadata": {},
   "outputs": [
    {
     "name": "stdout",
     "output_type": "stream",
     "text": [
      "\n",
      "\n",
      "\n"
     ]
    }
   ],
   "source": [
    "import rospy\n",
    "from std_msgs.msg import String\n",
    "\n",
    "!rosservice call reset\n",
    "!rosservice call kill turtle1\n",
    "rospy.set_param(\"turtlesim/background_r\", 150)\n",
    "rospy.set_param(\"turtlesim/background_g\", 75)\n",
    "rospy.set_param(\"turtlesim/background_b\", 0)\n",
    "!rosservice call /clear\n",
    "rospy.init_node(\"node_serwer\", anonymous=True)\n",
    "\n",
    "global pol_Leo\n",
    "global x_Leo\n",
    "global y_Leo\n",
    "global zad_Leo\n",
    "stoliki=[[0,0],[3,7], [3,4.5], [3,2], [8,2], [8,4.5], [8,7]]\n",
    "pol_Leo=rospy.Publisher(\"/Leonardo/polecenie\",String,queue_size=10)\n",
    "pol_Don=rospy.Publisher(\"/Donatello/polecenie\",String,queue_size=10)\n",
    "pol_Mic=rospy.Publisher(\"/Michelangelo/polecenie\",String,queue_size=10)\n",
    "pol_Rap=rospy.Publisher(\"/Raphael/polecenie\",String,queue_size=10)\n",
    "pol_Rap=rospy.Publisher(\"manual\",String,queue_size=10)"
   ]
  },
  {
   "cell_type": "code",
   "execution_count": 4,
   "id": "digital-settle",
   "metadata": {},
   "outputs": [],
   "source": [
    "def obs_stol(data):\n",
    "        print(data.data)\n",
    "        stolik=int(data.data[0])\n",
    "        rozkaz=data.data[1]\n",
    "        if rozkaz==\"!\":\n",
    "            msg=\"stolik\"+str(stolik)+\"|\"+str(stoliki[stolik][0])+\"|\"+str(stoliki[stolik][1])+\"|\"+\"none\"\n",
    "        pol_Leo.publish(msg)"
   ]
  },
  {
   "cell_type": "code",
   "execution_count": 5,
   "id": "incomplete-least",
   "metadata": {},
   "outputs": [
    {
     "name": "stdout",
     "output_type": "stream",
     "text": [
      "1!\n"
     ]
    }
   ],
   "source": [
    "s1=rospy.Subscriber(\"/stolik_1/status\",String, obs_stol)\n",
    "s2=rospy.Subscriber(\"/stolik_2/status\",String, obs_stol)\n",
    "s3=rospy.Subscriber(\"/stolik_3/status\",String, obs_stol)\n",
    "s4=rospy.Subscriber(\"/stolik_4/status\",String, obs_stol)\n",
    "s5=rospy.Subscriber(\"/stolik_5/status\",String, obs_stol)\n",
    "s6=rospy.Subscriber(\"/stolik_6/status\",String, obs_stol)"
   ]
  },
  {
   "cell_type": "code",
   "execution_count": 33,
   "id": "front-reliance",
   "metadata": {},
   "outputs": [],
   "source": [
    "tryb_Leo=rospy.Publisher(\"/Leonardo/tryb\",String,queue_size=10)\n",
    "tryb_Leo.publish(\"manual\")"
   ]
  },
  {
   "cell_type": "code",
   "execution_count": 36,
   "id": "placed-rental",
   "metadata": {},
   "outputs": [
    {
     "name": "stderr",
     "output_type": "stream",
     "text": [
      "[WARN] [1624568383.707448]: Inbound TCP/IP connection failed: connection from sender terminated before handshake header received. 0 bytes were received. Please check sender for additional details.\n",
      "[WARN] [1624568558.190110]: Inbound TCP/IP connection failed: connection from sender terminated before handshake header received. 0 bytes were received. Please check sender for additional details.\n",
      "[WARN] [1624568627.949489]: Inbound TCP/IP connection failed: connection from sender terminated before handshake header received. 0 bytes were received. Please check sender for additional details.\n",
      "[WARN] [1624568627.951893]: Inbound TCP/IP connection failed: connection from sender terminated before handshake header received. 0 bytes were received. Please check sender for additional details.\n"
     ]
    }
   ],
   "source": [
    "manual=rospy.Publisher(\"manual\",String,queue_size=10)\n",
    "manual.publish(\"p\")"
   ]
  },
  {
   "cell_type": "code",
   "execution_count": null,
   "id": "widespread-tanzania",
   "metadata": {},
   "outputs": [],
   "source": []
  }
 ],
 "metadata": {
  "kernelspec": {
   "display_name": "Python 3",
   "language": "python",
   "name": "python3"
  },
  "language_info": {
   "codemirror_mode": {
    "name": "ipython",
    "version": 3
   },
   "file_extension": ".py",
   "mimetype": "text/x-python",
   "name": "python",
   "nbconvert_exporter": "python",
   "pygments_lexer": "ipython3",
   "version": "3.8.5"
  }
 },
 "nbformat": 4,
 "nbformat_minor": 5
}
