{
 "cells": [
  {
   "cell_type": "markdown",
   "id": "hydraulic-interview",
   "metadata": {},
   "source": [
    "# START"
   ]
  },
  {
   "cell_type": "code",
   "execution_count": 308,
   "id": "homeless-brother",
   "metadata": {},
   "outputs": [
    {
     "name": "stdout",
     "output_type": "stream",
     "text": [
      "\n",
      "\n",
      "\n"
     ]
    }
   ],
   "source": [
    "import rospy\n",
    "from std_msgs.msg import String\n",
    "!rosservice call reset\n",
    "!rosservice call kill turtle1\n",
    "rospy.set_param(\"turtlesim/background_r\", 150)\n",
    "rospy.set_param(\"turtlesim/background_g\", 75)\n",
    "rospy.set_param(\"turtlesim/background_b\", 0)\n",
    "!rosservice call /clear\n"
   ]
  },
  {
   "cell_type": "code",
   "execution_count": 286,
   "id": "white-cincinnati",
   "metadata": {},
   "outputs": [],
   "source": [
    "\n",
    "rospy.init_node(\"node_serwer\", anonymous=True)\n",
    "pol_Leo=rospy.Publisher(\"/Leonardo/polecenie\",String,queue_size=10)\n",
    "x_Leo=rospy.Publisher(\"/Leonardo/pol_x\",String,queue_size=10)\n",
    "y_Leo=rospy.Publisher(\"/Leonardo/pol_y\",String,queue_size=10)\n",
    "zad_Leo=rospy.Publisher(\"/Leonardo/pol_zad\",String,queue_size=10)"
   ]
  },
  {
   "cell_type": "code",
   "execution_count": 310,
   "id": "digital-settle",
   "metadata": {},
   "outputs": [],
   "source": [
    "msg=[\"stolik1\", 5.0, 8.0, \"none\"]\n",
    "#msg = String()\n",
    "#msg.data=\"KURWA\"\n",
    "#msg1 = String()\n",
    "#msg1.data=\"KURWA2\"\n",
    "pol_Leo.publish(msg[0])\n",
    "x_Leo.publish(str(msg[1]))\n",
    "y_Leo.publish(str(msg[2]))\n",
    "zad_Leo.publish(msg[3])"
   ]
  },
  {
   "cell_type": "code",
   "execution_count": null,
   "id": "incomplete-least",
   "metadata": {},
   "outputs": [],
   "source": []
  },
  {
   "cell_type": "code",
   "execution_count": null,
   "id": "acquired-transaction",
   "metadata": {},
   "outputs": [],
   "source": []
  }
 ],
 "metadata": {
  "kernelspec": {
   "display_name": "Python 3",
   "language": "python",
   "name": "python3"
  },
  "language_info": {
   "codemirror_mode": {
    "name": "ipython",
    "version": 3
   },
   "file_extension": ".py",
   "mimetype": "text/x-python",
   "name": "python",
   "nbconvert_exporter": "python",
   "pygments_lexer": "ipython3",
   "version": "3.8.5"
  }
 },
 "nbformat": 4,
 "nbformat_minor": 5
}
