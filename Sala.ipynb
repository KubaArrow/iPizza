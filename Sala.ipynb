{
 "cells": [
  {
   "cell_type": "code",
   "execution_count": null,
   "id": "czech-longer",
   "metadata": {},
   "outputs": [],
   "source": []
  },
  {
   "cell_type": "code",
   "execution_count": 55,
   "id": "domestic-algebra",
   "metadata": {},
   "outputs": [
    {
     "data": {
      "application/vnd.jupyter.widget-view+json": {
       "model_id": "a22d6528c3df4953b088110d2593315a",
       "version_major": 2,
       "version_minor": 0
      },
      "text/plain": [
       "HBox(children=(VBox(children=(Select(description='Robot:', options=('Leonardo', 'Donatello', 'Michelangelo', '…"
      ]
     },
     "metadata": {},
     "output_type": "display_data"
    },
    {
     "ename": "AttributeError",
     "evalue": "'Checkbox' object has no attribute 'on_change'",
     "output_type": "error",
     "traceback": [
      "\u001b[0;31m---------------------------------------------------------------------------\u001b[0m",
      "\u001b[0;31mAttributeError\u001b[0m                            Traceback (most recent call last)",
      "\u001b[0;32m<ipython-input-55-b3dbb50327de>\u001b[0m in \u001b[0;36m<module>\u001b[0;34m\u001b[0m\n\u001b[1;32m     54\u001b[0m     \u001b[0;32melif\u001b[0m \u001b[0mdata\u001b[0m\u001b[0;34m.\u001b[0m\u001b[0mvalue\u001b[0m\u001b[0;34m==\u001b[0m\u001b[0;32mTrue\u001b[0m\u001b[0;34m:\u001b[0m\u001b[0;34m\u001b[0m\u001b[0;34m\u001b[0m\u001b[0m\n\u001b[1;32m     55\u001b[0m         \u001b[0mtr\u001b[0m\u001b[0;34m.\u001b[0m\u001b[0mpublish\u001b[0m\u001b[0;34m(\u001b[0m\u001b[0;34m\"manual\"\u001b[0m\u001b[0;34m)\u001b[0m\u001b[0;34m\u001b[0m\u001b[0;34m\u001b[0m\u001b[0m\n\u001b[0;32m---> 56\u001b[0;31m \u001b[0mmanu\u001b[0m\u001b[0;34m.\u001b[0m\u001b[0mon_change\u001b[0m\u001b[0;34m(\u001b[0m\u001b[0mzmien_tryb\u001b[0m\u001b[0;34m)\u001b[0m\u001b[0;34m\u001b[0m\u001b[0;34m\u001b[0m\u001b[0m\n\u001b[0m",
      "\u001b[0;31mAttributeError\u001b[0m: 'Checkbox' object has no attribute 'on_change'"
     ]
    }
   ],
   "source": [
    "import ipywidgets as widgets \n",
    "from ipywidgets import Button, HBox, VBox,Dropdown,Select,Checkbox\n",
    "import rospy\n",
    "from std_msgs.msg import String\n",
    "manual=rospy.Publisher(\"manual\",String,queue_size=10)\n",
    "zolw=\"Leonardo\"\n",
    "\n",
    "def ruch(data):\n",
    "    znak=data.description\n",
    "    if znak=='^':\n",
    "        manual.publish(\"p\")\n",
    "    elif znak=='<':\n",
    "        manual.publish(\"l\")\n",
    "    elif znak=='>':\n",
    "        manual.publish(\"pp\")\n",
    "    elif znak=='_':\n",
    "        manual.publish(\"t\")\n",
    "    \n",
    "rospy.init_node(\"widgets_controller\")\n",
    "w_robot=widgets.Select(\n",
    "    options=['Leonardo', 'Donatello', 'Michelangelo', 'Raphael'],\n",
    "    value='Leonardo',\n",
    "    description='Robot:',\n",
    "    disabled=False,\n",
    ")\n",
    "manu=widgets.Checkbox(\n",
    "    value=False,\n",
    "    description='Tryb ręczny',\n",
    "    disabled=False,\n",
    "    indent=False\n",
    ")\n",
    "empty=widgets.Label(value=\"                \")\n",
    "\n",
    "\n",
    "words = ['<', '>', '^', '_']\n",
    "val = ['pp', 'l', 'p', 't']\n",
    "for i in range(4):\n",
    "    items[i] = widgets.Button(\n",
    "    description=words[i])\n",
    "    \n",
    "    \n",
    "left_box = VBox([w_robot])\n",
    "mi_box=VBox([empty,items[0]])\n",
    "mid_box = VBox([items[2], items[3]])\n",
    "right_box = VBox([manu,items[1]])\n",
    "display(HBox([left_box,mi_box, mid_box,right_box]))\n",
    "for i in range(4):\n",
    "    items[i].on_click(ruch)\n",
    "def zmien_tryb(data):\n",
    "    \n",
    "    tr=rospy.Publisher(zolw+\"/tryb\",String,queue_size=10)\n",
    "    if data.value==False:     \n",
    "        tr.publish(\"auto\")\n",
    "    elif data.value==True:     \n",
    "        tr.publish(\"manual\")\n",
    "manu.on_change(zmien_tryb)"
   ]
  },
  {
   "cell_type": "code",
   "execution_count": null,
   "id": "infectious-chance",
   "metadata": {},
   "outputs": [],
   "source": []
  }
 ],
 "metadata": {
  "kernelspec": {
   "display_name": "Python 3",
   "language": "python",
   "name": "python3"
  },
  "language_info": {
   "codemirror_mode": {
    "name": "ipython",
    "version": 3
   },
   "file_extension": ".py",
   "mimetype": "text/x-python",
   "name": "python",
   "nbconvert_exporter": "python",
   "pygments_lexer": "ipython3",
   "version": "3.8.5"
  }
 },
 "nbformat": 4,
 "nbformat_minor": 5
}
